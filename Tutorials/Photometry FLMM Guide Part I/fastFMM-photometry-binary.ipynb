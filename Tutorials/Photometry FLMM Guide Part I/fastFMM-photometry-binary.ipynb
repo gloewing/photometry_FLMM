{
 "cells": [
  {
   "cell_type": "markdown",
   "metadata": {},
   "source": [
    "# \"Photometry FLMM Guide Part I : Data Formating and Binary Variables\"\n",
    "## Authors: \"Gabriel Loewinger, Erjia Cui\""
   ]
  },
  {
   "cell_type": "markdown",
   "metadata": {},
   "source": [
    "## Introduction\n",
    "\n",
    "`fastFMM` is a fast toolkit for fitting Functional Linear Mixed Models (FLMM). Instead of analyzing summary measures of photometry signals (e.g., Area-Under-the-Curve, peak amplitude), FLMM allows you to analyze the relationship between photometry signals and experimental/behavioral variables (e.g., CS+/CS-, total presses, treatment/control groups) at each time-point of the trial. Therefore, FLMM provides a unique opportunity to reveal potentially time-varying signal changes that are obscured by analyzing only summary measures (e.g., see [Loewinger et al. (2023)](https://www.biorxiv.org/content/10.1101/2023.11.06.565896v1)). Although our package can fit the wider class of generalized functional mixed models, this guide focuses on FLMM. \n"
   ]
  },
  {
   "cell_type": "markdown",
   "metadata": {},
   "source": [
    "# Installation\n",
    "\n",
    "## fastFMM Installation on R\n",
    "\n",
    "The CRAN version of `fastFMM` can be downloaded by executing the following command on your R console:\n",
    "\n",
    "```{r, eval=FALSE}\n",
    "install.packages(\"fastFMM\", dependencies = TRUE)\n",
    "```\n",
    "\n",
    "*May want to mention RENV here or maybe chat with Gabe about what is easiest*"
   ]
  },
  {
   "cell_type": "markdown",
   "metadata": {},
   "source": [
    "## Package Installation for Python\n",
    "\n",
    "This tutorial `pandas` to read in the data into Python and `rpy2` to pass the data in Python to the fastFMM model in R."
   ]
  },
  {
   "cell_type": "code",
   "execution_count": 1,
   "metadata": {},
   "outputs": [
    {
     "name": "stdout",
     "output_type": "stream",
     "text": [
      "Requirement already satisfied: pandas in /Users/lawrimorejg/repos/photometry_FLMM/.venv/lib/python3.11/site-packages (2.2.3)\n",
      "Requirement already satisfied: numpy>=1.23.2 in /Users/lawrimorejg/repos/photometry_FLMM/.venv/lib/python3.11/site-packages (from pandas) (2.1.2)\n",
      "Requirement already satisfied: python-dateutil>=2.8.2 in /Users/lawrimorejg/repos/photometry_FLMM/.venv/lib/python3.11/site-packages (from pandas) (2.9.0.post0)\n",
      "Requirement already satisfied: pytz>=2020.1 in /Users/lawrimorejg/repos/photometry_FLMM/.venv/lib/python3.11/site-packages (from pandas) (2024.2)\n",
      "Requirement already satisfied: tzdata>=2022.7 in /Users/lawrimorejg/repos/photometry_FLMM/.venv/lib/python3.11/site-packages (from pandas) (2024.2)\n",
      "Requirement already satisfied: six>=1.5 in /Users/lawrimorejg/repos/photometry_FLMM/.venv/lib/python3.11/site-packages (from python-dateutil>=2.8.2->pandas) (1.16.0)\n",
      "\n",
      "\u001b[1m[\u001b[0m\u001b[34;49mnotice\u001b[0m\u001b[1;39;49m]\u001b[0m\u001b[39;49m A new release of pip is available: \u001b[0m\u001b[31;49m24.2\u001b[0m\u001b[39;49m -> \u001b[0m\u001b[32;49m24.3.1\u001b[0m\n",
      "\u001b[1m[\u001b[0m\u001b[34;49mnotice\u001b[0m\u001b[1;39;49m]\u001b[0m\u001b[39;49m To update, run: \u001b[0m\u001b[32;49mpip install --upgrade pip\u001b[0m\n",
      "Note: you may need to restart the kernel to use updated packages.\n",
      "Requirement already satisfied: rpy2 in /Users/lawrimorejg/repos/photometry_FLMM/.venv/lib/python3.11/site-packages (3.5.16)\n",
      "Requirement already satisfied: cffi>=1.15.1 in /Users/lawrimorejg/repos/photometry_FLMM/.venv/lib/python3.11/site-packages (from rpy2) (1.17.1)\n",
      "Requirement already satisfied: jinja2 in /Users/lawrimorejg/repos/photometry_FLMM/.venv/lib/python3.11/site-packages (from rpy2) (3.1.4)\n",
      "Requirement already satisfied: tzlocal in /Users/lawrimorejg/repos/photometry_FLMM/.venv/lib/python3.11/site-packages (from rpy2) (5.2)\n",
      "Requirement already satisfied: pycparser in /Users/lawrimorejg/repos/photometry_FLMM/.venv/lib/python3.11/site-packages (from cffi>=1.15.1->rpy2) (2.22)\n",
      "Requirement already satisfied: MarkupSafe>=2.0 in /Users/lawrimorejg/repos/photometry_FLMM/.venv/lib/python3.11/site-packages (from jinja2->rpy2) (3.0.2)\n",
      "\n",
      "\u001b[1m[\u001b[0m\u001b[34;49mnotice\u001b[0m\u001b[1;39;49m]\u001b[0m\u001b[39;49m A new release of pip is available: \u001b[0m\u001b[31;49m24.2\u001b[0m\u001b[39;49m -> \u001b[0m\u001b[32;49m24.3.1\u001b[0m\n",
      "\u001b[1m[\u001b[0m\u001b[34;49mnotice\u001b[0m\u001b[1;39;49m]\u001b[0m\u001b[39;49m To update, run: \u001b[0m\u001b[32;49mpip install --upgrade pip\u001b[0m\n",
      "Note: you may need to restart the kernel to use updated packages.\n"
     ]
    }
   ],
   "source": [
    "%pip install pandas\n",
    "%pip install rpy2\n",
    "\n",
    "import pandas as pd\n"
   ]
  },
  {
   "cell_type": "markdown",
   "metadata": {},
   "source": [
    "# Loading fastFMM using rpy2\n",
    "\n",
    "In order to pass data into fastFMM we first must load the pandas2ri module and activate. We then import the required R packages, including fastFMM, into Python using importr"
   ]
  },
  {
   "cell_type": "code",
   "execution_count": 2,
   "metadata": {},
   "outputs": [],
   "source": [
    "\n",
    "from rpy2 import robjects\n",
    "from rpy2.robjects import pandas2ri\n",
    "from rpy2.robjects.packages import importr\n",
    "\n",
    "\n",
    "# pandas2ri.activate()\n",
    "\n",
    "# import R packages\n",
    "base = importr(\"base\")\n",
    "utils = importr(\"utils\")\n",
    "stats = importr(\"stats\")\n",
    "fastFMM = importr(\"fastFMM\")\n"
   ]
  },
  {
   "cell_type": "markdown",
   "metadata": {},
   "source": [
    "# Tutorial Guide\n",
    "\n",
    "We start by analyzing trial-level photometry signals (each trial is a 5 second $\\Delta F/ F$ signal) collected from multiple animals, on multiple sessions (each of which contains multiple trials). You can pre-process your data in any programming language you like, but it is recommended to save the processed dataset as a CSV file to then read into R.\n",
    "\n",
    "## Data Formating\n",
    "\n",
    "For demonstration purpose, we have pre-processed a dataset stored as `binary.csv`. This data was taken from Test 4 of [Jeong et al., 2022](https://www.science.org/doi/full/10.1126/science.abq6740) and we thank the authors for generously making their data public and helping us analyze it.\n",
    "\n",
    "Let's load the data and take a look at its structure of the first several columns. Please make sure to either set your working directory in R first using `setwd()` function, or specify the file pathname in the `read.csv('path/to/file/photometry_data.csv')`. \n",
    "\n",
    "Below we will load the data using Pandas and then pass the DataFrame to R using robjects."
   ]
  },
  {
   "cell_type": "code",
   "execution_count": 3,
   "metadata": {},
   "outputs": [
    {
     "data": {
      "text/html": [
       "<div>\n",
       "<style scoped>\n",
       "    .dataframe tbody tr th:only-of-type {\n",
       "        vertical-align: middle;\n",
       "    }\n",
       "\n",
       "    .dataframe tbody tr th {\n",
       "        vertical-align: top;\n",
       "    }\n",
       "\n",
       "    .dataframe thead th {\n",
       "        text-align: right;\n",
       "    }\n",
       "</style>\n",
       "<table border=\"1\" class=\"dataframe\">\n",
       "  <thead>\n",
       "    <tr style=\"text-align: right;\">\n",
       "      <th></th>\n",
       "      <th>id</th>\n",
       "      <th>session</th>\n",
       "      <th>trial</th>\n",
       "      <th>cs</th>\n",
       "      <th>photometry.1</th>\n",
       "      <th>photometry.2</th>\n",
       "      <th>photometry.3</th>\n",
       "      <th>photometry.4</th>\n",
       "      <th>photometry.5</th>\n",
       "      <th>photometry.6</th>\n",
       "    </tr>\n",
       "  </thead>\n",
       "  <tbody>\n",
       "    <tr>\n",
       "      <th>0</th>\n",
       "      <td>3</td>\n",
       "      <td>1</td>\n",
       "      <td>1.0</td>\n",
       "      <td>0</td>\n",
       "      <td>-0.810</td>\n",
       "      <td>-0.626</td>\n",
       "      <td>-0.484</td>\n",
       "      <td>-0.414</td>\n",
       "      <td>-0.336</td>\n",
       "      <td>-0.335</td>\n",
       "    </tr>\n",
       "    <tr>\n",
       "      <th>1</th>\n",
       "      <td>3</td>\n",
       "      <td>1</td>\n",
       "      <td>2.0</td>\n",
       "      <td>0</td>\n",
       "      <td>-0.037</td>\n",
       "      <td>-0.136</td>\n",
       "      <td>0.005</td>\n",
       "      <td>-0.022</td>\n",
       "      <td>0.029</td>\n",
       "      <td>0.251</td>\n",
       "    </tr>\n",
       "    <tr>\n",
       "      <th>2</th>\n",
       "      <td>3</td>\n",
       "      <td>1</td>\n",
       "      <td>3.0</td>\n",
       "      <td>0</td>\n",
       "      <td>-0.241</td>\n",
       "      <td>-0.058</td>\n",
       "      <td>0.037</td>\n",
       "      <td>-0.075</td>\n",
       "      <td>-0.242</td>\n",
       "      <td>-0.276</td>\n",
       "    </tr>\n",
       "    <tr>\n",
       "      <th>3</th>\n",
       "      <td>3</td>\n",
       "      <td>1</td>\n",
       "      <td>4.0</td>\n",
       "      <td>0</td>\n",
       "      <td>0.058</td>\n",
       "      <td>0.032</td>\n",
       "      <td>-0.041</td>\n",
       "      <td>0.080</td>\n",
       "      <td>0.062</td>\n",
       "      <td>-0.047</td>\n",
       "    </tr>\n",
       "    <tr>\n",
       "      <th>4</th>\n",
       "      <td>3</td>\n",
       "      <td>1</td>\n",
       "      <td>5.0</td>\n",
       "      <td>0</td>\n",
       "      <td>-0.134</td>\n",
       "      <td>0.024</td>\n",
       "      <td>0.017</td>\n",
       "      <td>-0.128</td>\n",
       "      <td>-0.108</td>\n",
       "      <td>-0.086</td>\n",
       "    </tr>\n",
       "    <tr>\n",
       "      <th>5</th>\n",
       "      <td>3</td>\n",
       "      <td>1</td>\n",
       "      <td>6.0</td>\n",
       "      <td>0</td>\n",
       "      <td>-0.547</td>\n",
       "      <td>-0.547</td>\n",
       "      <td>-0.444</td>\n",
       "      <td>-0.380</td>\n",
       "      <td>-0.309</td>\n",
       "      <td>-0.329</td>\n",
       "    </tr>\n",
       "    <tr>\n",
       "      <th>6</th>\n",
       "      <td>3</td>\n",
       "      <td>1</td>\n",
       "      <td>7.0</td>\n",
       "      <td>0</td>\n",
       "      <td>-0.148</td>\n",
       "      <td>-0.270</td>\n",
       "      <td>-0.304</td>\n",
       "      <td>-0.116</td>\n",
       "      <td>-0.069</td>\n",
       "      <td>0.013</td>\n",
       "    </tr>\n",
       "    <tr>\n",
       "      <th>7</th>\n",
       "      <td>3</td>\n",
       "      <td>1</td>\n",
       "      <td>8.0</td>\n",
       "      <td>0</td>\n",
       "      <td>0.772</td>\n",
       "      <td>0.868</td>\n",
       "      <td>0.975</td>\n",
       "      <td>1.071</td>\n",
       "      <td>1.027</td>\n",
       "      <td>1.210</td>\n",
       "    </tr>\n",
       "    <tr>\n",
       "      <th>8</th>\n",
       "      <td>3</td>\n",
       "      <td>1</td>\n",
       "      <td>9.0</td>\n",
       "      <td>0</td>\n",
       "      <td>0.434</td>\n",
       "      <td>0.335</td>\n",
       "      <td>0.181</td>\n",
       "      <td>0.096</td>\n",
       "      <td>0.081</td>\n",
       "      <td>0.195</td>\n",
       "    </tr>\n",
       "    <tr>\n",
       "      <th>9</th>\n",
       "      <td>3</td>\n",
       "      <td>1</td>\n",
       "      <td>10.0</td>\n",
       "      <td>0</td>\n",
       "      <td>-0.284</td>\n",
       "      <td>-0.208</td>\n",
       "      <td>-0.129</td>\n",
       "      <td>0.013</td>\n",
       "      <td>0.256</td>\n",
       "      <td>0.281</td>\n",
       "    </tr>\n",
       "  </tbody>\n",
       "</table>\n",
       "</div>"
      ],
      "text/plain": [
       "   id  session  trial  cs  photometry.1  photometry.2  photometry.3  \\\n",
       "0   3        1    1.0   0        -0.810        -0.626        -0.484   \n",
       "1   3        1    2.0   0        -0.037        -0.136         0.005   \n",
       "2   3        1    3.0   0        -0.241        -0.058         0.037   \n",
       "3   3        1    4.0   0         0.058         0.032        -0.041   \n",
       "4   3        1    5.0   0        -0.134         0.024         0.017   \n",
       "5   3        1    6.0   0        -0.547        -0.547        -0.444   \n",
       "6   3        1    7.0   0        -0.148        -0.270        -0.304   \n",
       "7   3        1    8.0   0         0.772         0.868         0.975   \n",
       "8   3        1    9.0   0         0.434         0.335         0.181   \n",
       "9   3        1   10.0   0        -0.284        -0.208        -0.129   \n",
       "\n",
       "   photometry.4  photometry.5  photometry.6  \n",
       "0        -0.414        -0.336        -0.335  \n",
       "1        -0.022         0.029         0.251  \n",
       "2        -0.075        -0.242        -0.276  \n",
       "3         0.080         0.062        -0.047  \n",
       "4        -0.128        -0.108        -0.086  \n",
       "5        -0.380        -0.309        -0.329  \n",
       "6        -0.116        -0.069         0.013  \n",
       "7         1.071         1.027         1.210  \n",
       "8         0.096         0.081         0.195  \n",
       "9         0.013         0.256         0.281  "
      ]
     },
     "execution_count": 3,
     "metadata": {},
     "output_type": "execute_result"
    }
   ],
   "source": [
    "from rpy2.robjects.conversion import localconverter\n",
    "\n",
    "# read in data\n",
    "df = pd.read_csv(\"binary.csv\")\n",
    "\n",
    "# convert it to an R variable\n",
    "with localconverter(pandas2ri.converter):\n",
    "    robjects.globalenv[\"df\"] = df\n",
    "\n",
    "#display subset of data\n",
    "df.iloc[:10, :10].round(3)\n"
   ]
  },
  {
   "cell_type": "markdown",
   "metadata": {},
   "source": [
    "The dataset pools trials across animals, and sessions. Each row is a single trial and contains both experimental information and the values of the photometry signal at each of 125 trial timepoints. The first 4 columns of this dataset include the subject ID ($\\texttt{id}$), session number ($\\texttt{session}$), trial number ($\\texttt{trial}$), and cue type CS+/CS- ($\\texttt{cs}$). Since the first 6 trials in the dataset are all from animal 3 on session 1, the values of the $\\texttt{id}$ and $\\texttt{session}$ entry are the same for these rows. If we looked further down in the dataset, we would see other values in the $\\texttt{id}$ and $\\texttt{session}$ columns. Note that the actual ordering of these first four columns does not matter, that is, it is not necessary to reorder the data for the analysis. The column $\\texttt{cs}$ is a covariate of interest and indicates whether the trial was a CS+ trial ($cs = 0$), or a CS- trial ($cs = 1$). The remaining columns contain the photometry signal values (e.g., $\\Delta F / F$). We have 125 photometry values stored in columns $\\texttt{photometry.1}$, $\\texttt{photometry.2}$, ..., $\\texttt{photometry.125}$ because the trials are 5 seconds long and the signal was downsampled to 25 Hz. \n",
    "\n",
    "With such data structures, we can specify an FLMM using the `fui()` function. The function assumes that whatever character string used to label the columns for the photometry signal preceeding the \".\" only occurs in columns corresponding to the signal. For example, if we specified a model `fui(photometry ~ cue + (1 | id), ...`, then all columns starting with 'photometry.', will be interpreted as the photometry signal (here we use $\\texttt{photometry.}$, but we could have used anything else, such as $\\texttt{Y.}$). For that reason we recommend not naming other variables in your dataset using names that contain the same characters as the response(e.g., $\\texttt{photometryAUC}$). Similarly, please do not name other variables with a period '.'. A safe variable name could be $\\texttt{photo\\_AUC}$ to avoid any issues with the analysis code.\n",
    "\n",
    "Alternatively, instead of relying on the column names, we can save the $N \\times L$ matrix associated with our photometry signals as a variable of a dataframe using the `I()` function. The `fui()` function accepts either format style.\n",
    "\n",
    "## Model Fitting and Function Arguments\n",
    "\n",
    "The `fui()` function syntax begins with the functional outcome $\\texttt{photometry}$ followed by $\\texttt{\\(\\sim \\)}$, then the fixed-effect covariates (here we only have binary one: $\\texttt{cs}$), and the random effects inside the parentheses: (e.g., $\\texttt{(1 | id)}$). The motivation of including random effects is to model the variability of photometry signal profiles across animals and to model the dependence arising $across$ trials within the same animals. To the left of the $\\texttt{|}$ are the covariates included for random-effects (here a $\\texttt{1}$ means only a random intercept is included. But if we wanted a random-slope for $\\texttt{cs}$, we would write $(\\texttt{cs | id})$. To the right of the $\\texttt{|}$ indicates the cluster or grouping variable. For us, this will usually be animal $\\texttt{id}$. We specify the name of our data object in $\\texttt{R}$, which we have just called `dat`. The syntax is based off of the `lmer()` function in the `lme4` package. Finally, we set `parallel = TRUE` to parallelize the function. This often substantially speeds up the code. It is not necessary though, and will not influence the model fit.\n",
    "\n",
    "Let's explore a few simple questions to understand how we might go about conducting FLMM analyses similar to common analyses like t-tests, correlations, repeated-measures ANOVAs, etc.\n",
    "\n",
    "## Binary covariate: Akin to FLMM version of a paired t-test: \n",
    "\n",
    "We begin by analyzing data from a Pavlovian task in which a reward-predictive CS+ and a CS- (not predictive of reward). We can compare the mean differences between CS+/CS- in photometry signal magnitude at each trial timepoint. This is akin to 1) taking an average trace for CS+ trials, 2) calculating an average trace for CS- trials, 3) taking the difference (at each timepoint) between the two average traces, and 3) examining where the difference in the average trace is significantly different than 0 (i.e., trial timepoints on CS+ trials in which the mean dF/F was significantly different than the mean dF/F at those timepoints on CS- trials).\n",
    "\n",
    "Let's start with a simple model, which can be viewed as the functional version of a paired t-test: we fit models with the binary $\\texttt{cs}$ covariate as the only predictor. This gives us a trial timepoint-by-timepoint test of whether there are significant differences in the photometry signal between CS+ and CS- trials. The figure output will show whether the mean signal was significantly higher/lower on CS+ trials than on CS- trials at trial timepoint 1, 2, 3, etc.\n",
    "\n",
    "We can fit a model and plot the output in 2 lines of code. Pretty easy, right?"
   ]
  },
  {
   "cell_type": "markdown",
   "metadata": {},
   "source": []
  },
  {
   "cell_type": "code",
   "execution_count": 7,
   "metadata": {},
   "outputs": [
    {
     "name": "stdout",
     "output_type": "stream",
     "text": [
      "[1] \"Step 1: Fit Massively Univariate Mixed Models\"\n",
      "[1] \"Step 2: Smoothing\"\n",
      "[1] \"Step 3: Inference (Analytic)\"\n",
      "[1] \"Step 3.1: Preparation\"\n",
      "[1] \"Step 3.1.1: Method of Moments Covariance Estimator Random Intercept\"\n",
      "[1] \"Step 3.1.2: Smooth G\"\n",
      "[1] \"Step 3.2: First step\"\n",
      "[1] \"Step 3.2.1: First step\"\n",
      "[1] \"Step 3.3: Second step\"\n"
     ]
    },
    {
     "name": "stderr",
     "output_type": "stream",
     "text": [
      "R[write to console]: Complete!\n",
      " - Use plot_fui() function to plot estimates.\n",
      " - For more information, run the command:  ?plot_fui\n",
      "\n"
     ]
    },
    {
     "name": "stdout",
     "output_type": "stream",
     "text": [
      "num_row: 1, num_col: 2\n"
     ]
    },
    {
     "data": {
      "image/png": "[encoded data removed]",
      "text/plain": [
       "<Figure size 500x400 with 2 Axes>"
      ]
     },
     "metadata": {},
     "output_type": "display_data"
    }
   ],
   "source": [
    "import rpy2.rinterface as rinterface\n",
    "import numpy as np\n",
    "\n",
    "local_rules = robjects.default_converter + pandas2ri.converter\n",
    "\n",
    "@local_rules.rpy2py.register(rinterface.FloatSexpVector)\n",
    "def rpy2py_floatvector(obj):\n",
    "    x = np.array(obj)\n",
    "    try:\n",
    "        # if names is assigned, convert to pandas series\n",
    "        return pd.Series(x, obj.names)\n",
    "    except:\n",
    "        # if dimnames assigned, it's a named matrix, convert to pandas dataframe\n",
    "        try:\n",
    "            rownames, colnames = obj.do_slot(\"dimnames\")\n",
    "            x = pd.DataFrame(x, index=rownames, columns=colnames)\n",
    "        finally:\n",
    "            # plain vector/matrix\n",
    "            return x\n",
    "\n",
    "with localconverter(local_rules):\n",
    "    mod = fastFMM.fui(\n",
    "    stats.as_formula(\"photometry ~ cs + (1 | id)\"), data=base.as_symbol(\"df\")\n",
    ")\n",
    "\n",
    "# # fit an FUI model\n",
    "from plot_fui import plot_fui\n",
    "\n",
    "\n",
    "\n",
    "# # convert m1 to dict\n",
    "# mod_dict: dict = {}\n",
    "# for item in mod.items():\n",
    "#     mod_dict[str(item[0])] = item[1]\n",
    "\n",
    "fig, fui_data = plot_fui(mod, return_data=True)\n"
   ]
  },
  {
   "cell_type": "code",
   "execution_count": 8,
   "metadata": {},
   "outputs": [
    {
     "data": {
      "text/plain": [
       "[       s      beta     lower     upper  lower_joint  upper_joint\n",
       " 1      1 -0.066677 -0.450550  0.317196    -0.637148     0.503793\n",
       " 2      2 -0.060812 -0.446372  0.324747    -0.633789     0.512165\n",
       " 3      3 -0.060653 -0.459340  0.338034    -0.653139     0.531833\n",
       " 4      4 -0.063698 -0.480138  0.352742    -0.682567     0.555170\n",
       " 5      5 -0.064597 -0.492258  0.363064    -0.700140     0.570947\n",
       " ..   ...       ...       ...       ...          ...          ...\n",
       " 121  121 -0.048398 -0.455914  0.359117    -0.654005     0.557208\n",
       " 122  122 -0.080556 -0.484989  0.323876    -0.681581     0.520468\n",
       " 123  123 -0.046001 -0.442952  0.350950    -0.635907     0.543905\n",
       " 124  124  0.111938 -0.284112  0.507987    -0.476629     0.700504\n",
       " 125  125  0.367287 -0.045792  0.780367    -0.246587     0.981162\n",
       " \n",
       " [125 rows x 6 columns],\n",
       "        s      beta     lower     upper  lower_joint  upper_joint\n",
       " 1      1  0.099139  0.006364  0.191913    -0.064058     0.262336\n",
       " 2      2  0.095043  0.027780  0.162306    -0.023276     0.213362\n",
       " 3      3  0.098973  0.029142  0.168804    -0.023865     0.221810\n",
       " 4      4  0.110142  0.043509  0.176775    -0.007070     0.227354\n",
       " 5      5  0.122641  0.053459  0.191823     0.000946     0.244337\n",
       " ..   ...       ...       ...       ...          ...          ...\n",
       " 121  121  0.007361 -0.057729  0.072450    -0.107136     0.121857\n",
       " 122  122  0.046255 -0.016817  0.109326    -0.064692     0.157201\n",
       " 123  123  0.021057 -0.048809  0.090922    -0.101842     0.143955\n",
       " 124  124 -0.127526 -0.197635 -0.057417    -0.250852    -0.004199\n",
       " 125  125 -0.374245 -0.488256 -0.260233    -0.574798    -0.173691\n",
       " \n",
       " [125 rows x 6 columns]]"
      ]
     },
     "execution_count": 8,
     "metadata": {},
     "output_type": "execute_result"
    }
   ],
   "source": [
    "fui_data\n"
   ]
  },
  {
   "cell_type": "code",
   "execution_count": null,
   "metadata": {},
   "outputs": [],
   "source": [
    "type(mod)\n"
   ]
  },
  {
   "cell_type": "code",
   "execution_count": null,
   "metadata": {},
   "outputs": [],
   "source": [
    "mod.keys()\n"
   ]
  },
  {
   "cell_type": "code",
   "execution_count": null,
   "metadata": {},
   "outputs": [],
   "source": [
    "fuiobj = mod\n",
    "num_var = fuiobj[\"betaHat\"].shape[0]\n",
    "print(num_var)\n",
    "plot_list = [] \n",
    "res_list = []\n"
   ]
  },
  {
   "cell_type": "code",
   "execution_count": null,
   "metadata": {},
   "outputs": [],
   "source": []
  }
 ],
 "metadata": {
  "kernelspec": {
   "display_name": ".venv",
   "language": "python",
   "name": "python3"
  },
  "language_info": {
   "codemirror_mode": {
    "name": "ipython",
    "version": 3
   },
   "file_extension": ".py",
   "mimetype": "text/x-python",
   "name": "python",
   "nbconvert_exporter": "python",
   "pygments_lexer": "ipython3",
   "version": "3.11.10"
  }
 },
 "nbformat": 4,
 "nbformat_minor": 2
}
