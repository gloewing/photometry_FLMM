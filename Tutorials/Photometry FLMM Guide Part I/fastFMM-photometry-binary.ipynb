{
 "cells": [
  {
   "cell_type": "markdown",
   "metadata": {},
   "source": [
    "# \"Photometry FLMM Guide Part I : Data Formating and Binary Variables\"\n",
    "## Authors: \"Gabriel Loewinger, Erjia Cui\""
   ]
  },
  {
   "cell_type": "markdown",
   "metadata": {},
   "source": [
    "## Introduction\n",
    "\n",
    "`fastFMM` is a fast toolkit for fitting Functional Linear Mixed Models (FLMM). Instead of analyzing summary measures of photometry signals (e.g., Area-Under-the-Curve, peak amplitude), FLMM allows you to analyze the relationship between photometry signals and experimental/behavioral variables (e.g., CS+/CS-, total presses, treatment/control groups) at each time-point of the trial. Therefore, FLMM provides a unique opportunity to reveal potentially time-varying signal changes that are obscured by analyzing only summary measures (e.g., see [Loewinger et al. (2023)](https://www.biorxiv.org/content/10.1101/2023.11.06.565896v1)). Although our package can fit the wider class of generalized functional mixed models, this guide focuses on FLMM. \n"
   ]
  },
  {
   "cell_type": "markdown",
   "metadata": {},
   "source": [
    "# Installation\n",
    "\n",
    "## fastFMM Installation on R\n",
    "\n",
    "The CRAN version of `fastFMM` can be downloaded by executing the following command on your R console:\n",
    "\n",
    "```{r, eval=FALSE}\n",
    "install.packages(\"fastFMM\", dependencies = TRUE)\n",
    "```\n",
    "\n",
    "*May want to mention RENV here or maybe chat with Gabe about what is easiest*"
   ]
  },
  {
   "cell_type": "markdown",
   "metadata": {},
   "source": [
    "## Package Installation for Python\n",
    "\n",
    "This tutorial `pandas` to read in the data into Python and `rpy2` to pass the data in Python to the fastFMM model in R."
   ]
  },
  {
   "cell_type": "code",
   "execution_count": 1,
   "metadata": {},
   "outputs": [
    {
     "name": "stdout",
     "output_type": "stream",
     "text": [
      "Requirement already satisfied: pandas in /Users/lawrimorejg/repos/photometry_FLMM/.venv/lib/python3.11/site-packages (2.2.3)\n",
      "Requirement already satisfied: numpy>=1.23.2 in /Users/lawrimorejg/repos/photometry_FLMM/.venv/lib/python3.11/site-packages (from pandas) (2.1.2)\n",
      "Requirement already satisfied: python-dateutil>=2.8.2 in /Users/lawrimorejg/repos/photometry_FLMM/.venv/lib/python3.11/site-packages (from pandas) (2.9.0.post0)\n",
      "Requirement already satisfied: pytz>=2020.1 in /Users/lawrimorejg/repos/photometry_FLMM/.venv/lib/python3.11/site-packages (from pandas) (2024.2)\n",
      "Requirement already satisfied: tzdata>=2022.7 in /Users/lawrimorejg/repos/photometry_FLMM/.venv/lib/python3.11/site-packages (from pandas) (2024.2)\n",
      "Requirement already satisfied: six>=1.5 in /Users/lawrimorejg/repos/photometry_FLMM/.venv/lib/python3.11/site-packages (from python-dateutil>=2.8.2->pandas) (1.16.0)\n",
      "\n",
      "\u001b[1m[\u001b[0m\u001b[34;49mnotice\u001b[0m\u001b[1;39;49m]\u001b[0m\u001b[39;49m A new release of pip is available: \u001b[0m\u001b[31;49m24.2\u001b[0m\u001b[39;49m -> \u001b[0m\u001b[32;49m24.3.1\u001b[0m\n",
      "\u001b[1m[\u001b[0m\u001b[34;49mnotice\u001b[0m\u001b[1;39;49m]\u001b[0m\u001b[39;49m To update, run: \u001b[0m\u001b[32;49mpip install --upgrade pip\u001b[0m\n",
      "Note: you may need to restart the kernel to use updated packages.\n",
      "Requirement already satisfied: rpy2 in /Users/lawrimorejg/repos/photometry_FLMM/.venv/lib/python3.11/site-packages (3.5.16)\n",
      "Requirement already satisfied: cffi>=1.15.1 in /Users/lawrimorejg/repos/photometry_FLMM/.venv/lib/python3.11/site-packages (from rpy2) (1.17.1)\n",
      "Requirement already satisfied: jinja2 in /Users/lawrimorejg/repos/photometry_FLMM/.venv/lib/python3.11/site-packages (from rpy2) (3.1.4)\n",
      "Requirement already satisfied: tzlocal in /Users/lawrimorejg/repos/photometry_FLMM/.venv/lib/python3.11/site-packages (from rpy2) (5.2)\n",
      "Requirement already satisfied: pycparser in /Users/lawrimorejg/repos/photometry_FLMM/.venv/lib/python3.11/site-packages (from cffi>=1.15.1->rpy2) (2.22)\n",
      "Requirement already satisfied: MarkupSafe>=2.0 in /Users/lawrimorejg/repos/photometry_FLMM/.venv/lib/python3.11/site-packages (from jinja2->rpy2) (3.0.2)\n",
      "\n",
      "\u001b[1m[\u001b[0m\u001b[34;49mnotice\u001b[0m\u001b[1;39;49m]\u001b[0m\u001b[39;49m A new release of pip is available: \u001b[0m\u001b[31;49m24.2\u001b[0m\u001b[39;49m -> \u001b[0m\u001b[32;49m24.3.1\u001b[0m\n",
      "\u001b[1m[\u001b[0m\u001b[34;49mnotice\u001b[0m\u001b[1;39;49m]\u001b[0m\u001b[39;49m To update, run: \u001b[0m\u001b[32;49mpip install --upgrade pip\u001b[0m\n",
      "Note: you may need to restart the kernel to use updated packages.\n"
     ]
    }
   ],
   "source": [
    "%pip install pandas\n",
    "%pip install rpy2\n",
    "\n",
    "import pandas as pd\n"
   ]
  },
  {
   "cell_type": "markdown",
   "metadata": {},
   "source": [
    "# Loading fastFMM using rpy2\n",
    "\n",
    "In order to pass data into fastFMM we first must load the pandas2ri module and activate. We then import the required R packages, including fastFMM, into Python using importr"
   ]
  },
  {
   "cell_type": "code",
   "execution_count": 2,
   "metadata": {},
   "outputs": [],
   "source": [
    "\n",
    "from rpy2 import robjects\n",
    "from rpy2.robjects import pandas2ri\n",
    "from rpy2.robjects.packages import importr\n",
    "\n",
    "\n",
    "pandas2ri.activate()\n",
    "\n",
    "# import R packages\n",
    "base = importr(\"base\")\n",
    "utils = importr(\"utils\")\n",
    "stats = importr(\"stats\")\n",
    "fastFMM = importr(\"fastFMM\")\n"
   ]
  },
  {
   "cell_type": "markdown",
   "metadata": {},
   "source": [
    "# Tutorial Guide\n",
    "\n",
    "We start by analyzing trial-level photometry signals (each trial is a 5 second $\\Delta F/ F$ signal) collected from multiple animals, on multiple sessions (each of which contains multiple trials). You can pre-process your data in any programming language you like, but it is recommended to save the processed dataset as a CSV file to then read into R.\n",
    "\n",
    "## Data Formating\n",
    "\n",
    "For demonstration purpose, we have pre-processed a dataset stored as `binary.csv`. This data was taken from Test 4 of [Jeong et al., 2022](https://www.science.org/doi/full/10.1126/science.abq6740) and we thank the authors for generously making their data public and helping us analyze it.\n",
    "\n",
    "Let's load the data and take a look at its structure of the first several columns. Please make sure to either set your working directory in R first using `setwd()` function, or specify the file pathname in the `read.csv('path/to/file/photometry_data.csv')`. \n",
    "\n",
    "Below we will load the data using Pandas and then pass the DataFrame to R using robjects."
   ]
  },
  {
   "cell_type": "code",
   "execution_count": 3,
   "metadata": {},
   "outputs": [
    {
     "data": {
      "text/html": [
       "<div>\n",
       "<style scoped>\n",
       "    .dataframe tbody tr th:only-of-type {\n",
       "        vertical-align: middle;\n",
       "    }\n",
       "\n",
       "    .dataframe tbody tr th {\n",
       "        vertical-align: top;\n",
       "    }\n",
       "\n",
       "    .dataframe thead th {\n",
       "        text-align: right;\n",
       "    }\n",
       "</style>\n",
       "<table border=\"1\" class=\"dataframe\">\n",
       "  <thead>\n",
       "    <tr style=\"text-align: right;\">\n",
       "      <th></th>\n",
       "      <th>id</th>\n",
       "      <th>session</th>\n",
       "      <th>trial</th>\n",
       "      <th>cs</th>\n",
       "      <th>photometry.1</th>\n",
       "      <th>photometry.2</th>\n",
       "      <th>photometry.3</th>\n",
       "      <th>photometry.4</th>\n",
       "      <th>photometry.5</th>\n",
       "      <th>photometry.6</th>\n",
       "    </tr>\n",
       "  </thead>\n",
       "  <tbody>\n",
       "    <tr>\n",
       "      <th>0</th>\n",
       "      <td>3</td>\n",
       "      <td>1</td>\n",
       "      <td>1.0</td>\n",
       "      <td>0</td>\n",
       "      <td>-0.810</td>\n",
       "      <td>-0.626</td>\n",
       "      <td>-0.484</td>\n",
       "      <td>-0.414</td>\n",
       "      <td>-0.336</td>\n",
       "      <td>-0.335</td>\n",
       "    </tr>\n",
       "    <tr>\n",
       "      <th>1</th>\n",
       "      <td>3</td>\n",
       "      <td>1</td>\n",
       "      <td>2.0</td>\n",
       "      <td>0</td>\n",
       "      <td>-0.037</td>\n",
       "      <td>-0.136</td>\n",
       "      <td>0.005</td>\n",
       "      <td>-0.022</td>\n",
       "      <td>0.029</td>\n",
       "      <td>0.251</td>\n",
       "    </tr>\n",
       "    <tr>\n",
       "      <th>2</th>\n",
       "      <td>3</td>\n",
       "      <td>1</td>\n",
       "      <td>3.0</td>\n",
       "      <td>0</td>\n",
       "      <td>-0.241</td>\n",
       "      <td>-0.058</td>\n",
       "      <td>0.037</td>\n",
       "      <td>-0.075</td>\n",
       "      <td>-0.242</td>\n",
       "      <td>-0.276</td>\n",
       "    </tr>\n",
       "    <tr>\n",
       "      <th>3</th>\n",
       "      <td>3</td>\n",
       "      <td>1</td>\n",
       "      <td>4.0</td>\n",
       "      <td>0</td>\n",
       "      <td>0.058</td>\n",
       "      <td>0.032</td>\n",
       "      <td>-0.041</td>\n",
       "      <td>0.080</td>\n",
       "      <td>0.062</td>\n",
       "      <td>-0.047</td>\n",
       "    </tr>\n",
       "    <tr>\n",
       "      <th>4</th>\n",
       "      <td>3</td>\n",
       "      <td>1</td>\n",
       "      <td>5.0</td>\n",
       "      <td>0</td>\n",
       "      <td>-0.134</td>\n",
       "      <td>0.024</td>\n",
       "      <td>0.017</td>\n",
       "      <td>-0.128</td>\n",
       "      <td>-0.108</td>\n",
       "      <td>-0.086</td>\n",
       "    </tr>\n",
       "    <tr>\n",
       "      <th>5</th>\n",
       "      <td>3</td>\n",
       "      <td>1</td>\n",
       "      <td>6.0</td>\n",
       "      <td>0</td>\n",
       "      <td>-0.547</td>\n",
       "      <td>-0.547</td>\n",
       "      <td>-0.444</td>\n",
       "      <td>-0.380</td>\n",
       "      <td>-0.309</td>\n",
       "      <td>-0.329</td>\n",
       "    </tr>\n",
       "    <tr>\n",
       "      <th>6</th>\n",
       "      <td>3</td>\n",
       "      <td>1</td>\n",
       "      <td>7.0</td>\n",
       "      <td>0</td>\n",
       "      <td>-0.148</td>\n",
       "      <td>-0.270</td>\n",
       "      <td>-0.304</td>\n",
       "      <td>-0.116</td>\n",
       "      <td>-0.069</td>\n",
       "      <td>0.013</td>\n",
       "    </tr>\n",
       "    <tr>\n",
       "      <th>7</th>\n",
       "      <td>3</td>\n",
       "      <td>1</td>\n",
       "      <td>8.0</td>\n",
       "      <td>0</td>\n",
       "      <td>0.772</td>\n",
       "      <td>0.868</td>\n",
       "      <td>0.975</td>\n",
       "      <td>1.071</td>\n",
       "      <td>1.027</td>\n",
       "      <td>1.210</td>\n",
       "    </tr>\n",
       "    <tr>\n",
       "      <th>8</th>\n",
       "      <td>3</td>\n",
       "      <td>1</td>\n",
       "      <td>9.0</td>\n",
       "      <td>0</td>\n",
       "      <td>0.434</td>\n",
       "      <td>0.335</td>\n",
       "      <td>0.181</td>\n",
       "      <td>0.096</td>\n",
       "      <td>0.081</td>\n",
       "      <td>0.195</td>\n",
       "    </tr>\n",
       "    <tr>\n",
       "      <th>9</th>\n",
       "      <td>3</td>\n",
       "      <td>1</td>\n",
       "      <td>10.0</td>\n",
       "      <td>0</td>\n",
       "      <td>-0.284</td>\n",
       "      <td>-0.208</td>\n",
       "      <td>-0.129</td>\n",
       "      <td>0.013</td>\n",
       "      <td>0.256</td>\n",
       "      <td>0.281</td>\n",
       "    </tr>\n",
       "  </tbody>\n",
       "</table>\n",
       "</div>"
      ],
      "text/plain": [
       "   id  session  trial  cs  photometry.1  photometry.2  photometry.3  \\\n",
       "0   3        1    1.0   0        -0.810        -0.626        -0.484   \n",
       "1   3        1    2.0   0        -0.037        -0.136         0.005   \n",
       "2   3        1    3.0   0        -0.241        -0.058         0.037   \n",
       "3   3        1    4.0   0         0.058         0.032        -0.041   \n",
       "4   3        1    5.0   0        -0.134         0.024         0.017   \n",
       "5   3        1    6.0   0        -0.547        -0.547        -0.444   \n",
       "6   3        1    7.0   0        -0.148        -0.270        -0.304   \n",
       "7   3        1    8.0   0         0.772         0.868         0.975   \n",
       "8   3        1    9.0   0         0.434         0.335         0.181   \n",
       "9   3        1   10.0   0        -0.284        -0.208        -0.129   \n",
       "\n",
       "   photometry.4  photometry.5  photometry.6  \n",
       "0        -0.414        -0.336        -0.335  \n",
       "1        -0.022         0.029         0.251  \n",
       "2        -0.075        -0.242        -0.276  \n",
       "3         0.080         0.062        -0.047  \n",
       "4        -0.128        -0.108        -0.086  \n",
       "5        -0.380        -0.309        -0.329  \n",
       "6        -0.116        -0.069         0.013  \n",
       "7         1.071         1.027         1.210  \n",
       "8         0.096         0.081         0.195  \n",
       "9         0.013         0.256         0.281  "
      ]
     },
     "execution_count": 3,
     "metadata": {},
     "output_type": "execute_result"
    }
   ],
   "source": [
    "# read in data\n",
    "df = pd.read_csv(\"binary.csv\")\n",
    "\n",
    "# convert it to an R variable\n",
    "robjects.globalenv[\"df\"] = df\n",
    "\n",
    "#display subset of data\n",
    "df.iloc[:10, :10].round(3)\n"
   ]
  },
  {
   "cell_type": "markdown",
   "metadata": {},
   "source": [
    "The dataset pools trials across animals, and sessions. Each row is a single trial and contains both experimental information and the values of the photometry signal at each of 125 trial timepoints. The first 4 columns of this dataset include the subject ID ($\\texttt{id}$), session number ($\\texttt{session}$), trial number ($\\texttt{trial}$), and cue type CS+/CS- ($\\texttt{cs}$). Since the first 6 trials in the dataset are all from animal 3 on session 1, the values of the $\\texttt{id}$ and $\\texttt{session}$ entry are the same for these rows. If we looked further down in the dataset, we would see other values in the $\\texttt{id}$ and $\\texttt{session}$ columns. Note that the actual ordering of these first four columns does not matter, that is, it is not necessary to reorder the data for the analysis. The column $\\texttt{cs}$ is a covariate of interest and indicates whether the trial was a CS+ trial ($cs = 0$), or a CS- trial ($cs = 1$). The remaining columns contain the photometry signal values (e.g., $\\Delta F / F$). We have 125 photometry values stored in columns $\\texttt{photometry.1}$, $\\texttt{photometry.2}$, ..., $\\texttt{photometry.125}$ because the trials are 5 seconds long and the signal was downsampled to 25 Hz. \n",
    "\n",
    "With such data structures, we can specify an FLMM using the `fui()` function. The function assumes that whatever character string used to label the columns for the photometry signal preceeding the \".\" only occurs in columns corresponding to the signal. For example, if we specified a model `fui(photometry ~ cue + (1 | id), ...`, then all columns starting with 'photometry.', will be interpreted as the photometry signal (here we use $\\texttt{photometry.}$, but we could have used anything else, such as $\\texttt{Y.}$). For that reason we recommend not naming other variables in your dataset using names that contain the same characters as the response(e.g., $\\texttt{photometryAUC}$). Similarly, please do not name other variables with a period '.'. A safe variable name could be $\\texttt{photo\\_AUC}$ to avoid any issues with the analysis code.\n",
    "\n",
    "Alternatively, instead of relying on the column names, we can save the $N \\times L$ matrix associated with our photometry signals as a variable of a dataframe using the `I()` function. The `fui()` function accepts either format style.\n",
    "\n",
    "## Model Fitting and Function Arguments\n",
    "\n",
    "The `fui()` function syntax begins with the functional outcome $\\texttt{photometry}$ followed by $\\texttt{\\(\\sim \\)}$, then the fixed-effect covariates (here we only have binary one: $\\texttt{cs}$), and the random effects inside the parentheses: (e.g., $\\texttt{(1 | id)}$). The motivation of including random effects is to model the variability of photometry signal profiles across animals and to model the dependence arising $across$ trials within the same animals. To the left of the $\\texttt{|}$ are the covariates included for random-effects (here a $\\texttt{1}$ means only a random intercept is included. But if we wanted a random-slope for $\\texttt{cs}$, we would write $(\\texttt{cs | id})$. To the right of the $\\texttt{|}$ indicates the cluster or grouping variable. For us, this will usually be animal $\\texttt{id}$. We specify the name of our data object in $\\texttt{R}$, which we have just called `dat`. The syntax is based off of the `lmer()` function in the `lme4` package. Finally, we set `parallel = TRUE` to parallelize the function. This often substantially speeds up the code. It is not necessary though, and will not influence the model fit.\n",
    "\n",
    "Let's explore a few simple questions to understand how we might go about conducting FLMM analyses similar to common analyses like t-tests, correlations, repeated-measures ANOVAs, etc.\n",
    "\n",
    "## Binary covariate: Akin to FLMM version of a paired t-test: \n",
    "\n",
    "We begin by analyzing data from a Pavlovian task in which a reward-predictive CS+ and a CS- (not predictive of reward). We can compare the mean differences between CS+/CS- in photometry signal magnitude at each trial timepoint. This is akin to 1) taking an average trace for CS+ trials, 2) calculating an average trace for CS- trials, 3) taking the difference (at each timepoint) between the two average traces, and 3) examining where the difference in the average trace is significantly different than 0 (i.e., trial timepoints on CS+ trials in which the mean dF/F was significantly different than the mean dF/F at those timepoints on CS- trials).\n",
    "\n",
    "Let's start with a simple model, which can be viewed as the functional version of a paired t-test: we fit models with the binary $\\texttt{cs}$ covariate as the only predictor. This gives us a trial timepoint-by-timepoint test of whether there are significant differences in the photometry signal between CS+ and CS- trials. The figure output will show whether the mean signal was significantly higher/lower on CS+ trials than on CS- trials at trial timepoint 1, 2, 3, etc.\n",
    "\n",
    "We can fit a model and plot the output in 2 lines of code. Pretty easy, right?"
   ]
  },
  {
   "cell_type": "markdown",
   "metadata": {},
   "source": []
  },
  {
   "cell_type": "code",
   "execution_count": 11,
   "metadata": {},
   "outputs": [
    {
     "name": "stdout",
     "output_type": "stream",
     "text": [
      "[1] \"Step 1: Fit Massively Univariate Mixed Models\"\n",
      "[1] \"Step 2: Smoothing\"\n",
      "[1] \"Step 3: Inference (Analytic)\"\n",
      "[1] \"Step 3.1: Preparation\"\n",
      "[1] \"Step 3.1.1: Method of Moments Covariance Estimator Random Intercept\"\n",
      "[1] \"Step 3.1.2: Smooth G\"\n",
      "[1] \"Step 3.2: First step\"\n",
      "[1] \"Step 3.2.1: First step\"\n",
      "[1] \"Step 3.3: Second step\"\n"
     ]
    },
    {
     "name": "stderr",
     "output_type": "stream",
     "text": [
      "R[write to console]: Complete!\n",
      " - Use plot_fui() function to plot estimates.\n",
      " - For more information, run the command:  ?plot_fui\n",
      "\n"
     ]
    },
    {
     "data": {
      "image/png": "[encoded data removed]",
      "text/plain": [
       "<Figure size 1000x400 with 2 Axes>"
      ]
     },
     "execution_count": 11,
     "metadata": {},
     "output_type": "execute_result"
    },
    {
     "data": {
      "image/png": "[encoded data removed]",
      "text/plain": [
       "<Figure size 1000x400 with 2 Axes>"
      ]
     },
     "metadata": {},
     "output_type": "display_data"
    }
   ],
   "source": [
    "# fit an FUI model\n",
    "from plot_fui import plot_fui\n",
    "\n",
    "mod = fastFMM.fui(\n",
    "    stats.as_formula(\"photometry ~ cs + (1 | id)\"), data=base.as_symbol(\"df\")\n",
    ")\n",
    "\n",
    "# convert m1 to dict\n",
    "mod_dict: dict = {}\n",
    "for item in m1.items():\n",
    "    mod_dict[str(item[0])] = item[1]\n",
    "\n",
    "plot_fui(mod_dict)\n"
   ]
  },
  {
   "cell_type": "code",
   "execution_count": 24,
   "metadata": {},
   "outputs": [
    {
     "data": {
      "text/plain": [
       "rpy2.robjects.vectors.ListVector"
      ]
     },
     "execution_count": 24,
     "metadata": {},
     "output_type": "execute_result"
    }
   ],
   "source": [
    "type(mod)\n"
   ]
  },
  {
   "cell_type": "code",
   "execution_count": 25,
   "metadata": {},
   "outputs": [
    {
     "data": {
      "text/plain": [
       "array(['betaHat', 'betaHat.var', 'qn', 'aic', 'betaTilde', 'var_random',\n",
       "       'designmat', 'residuals', 'H', 'R', 'G', 'GHat', 'Z', 'argvals',\n",
       "       'randEff', 'se_mat'], dtype='<U11')"
      ]
     },
     "execution_count": 25,
     "metadata": {},
     "output_type": "execute_result"
    }
   ],
   "source": [
    "mod.names\n"
   ]
  },
  {
   "cell_type": "code",
   "execution_count": 36,
   "metadata": {},
   "outputs": [
    {
     "data": {
      "text/plain": [
       "array([[-6.66771720e-02, -6.08122681e-02, -6.06527128e-02,\n",
       "        -6.36982355e-02, -6.45967327e-02, -6.53591696e-02,\n",
       "        -7.06238534e-02, -7.73551256e-02, -7.94849825e-02,\n",
       "        -7.86249985e-02, -7.99262936e-02, -8.13722910e-02,\n",
       "        -7.80534958e-02, -7.35293130e-02, -7.54041717e-02,\n",
       "        -8.22205928e-02, -8.64970801e-02, -8.88208803e-02,\n",
       "        -9.66816943e-02, -1.10226789e-01, -1.21479398e-01,\n",
       "        -1.27632069e-01, -1.32882310e-01, -1.36679867e-01,\n",
       "        -1.32862199e-01, -1.21992578e-01, -1.12136478e-01,\n",
       "        -1.05367476e-01, -9.58713072e-02, -8.35727010e-02,\n",
       "        -7.64889780e-02, -7.64906379e-02, -7.60917123e-02,\n",
       "        -7.28942381e-02, -7.31914810e-02, -7.72917950e-02,\n",
       "        -7.66849231e-02, -7.07894047e-02, -6.94542463e-02,\n",
       "        -7.23173697e-02, -6.51576268e-02, -4.62217557e-02,\n",
       "        -3.41845040e-02, -3.58887849e-02, -3.10108026e-02,\n",
       "        -1.10086066e-02, -5.90074131e-03, -2.93759590e-02,\n",
       "        -1.88896398e-03,  2.31178157e-01,  7.87218790e-01,\n",
       "         1.65722650e+00,  2.70794851e+00,  3.73625326e+00,\n",
       "         4.53467908e+00,  4.97285018e+00,  5.06440495e+00,\n",
       "         4.94251652e+00,  4.74466507e+00,  4.52483614e+00,\n",
       "         4.27692562e+00,  4.00460724e+00,  3.73350727e+00,\n",
       "         3.47423221e+00,  3.21491169e+00,  2.95251101e+00,\n",
       "         2.70390705e+00,  2.48199427e+00,  2.28295115e+00,\n",
       "         2.10199152e+00,  1.94269067e+00,  1.80463876e+00,\n",
       "         1.67797484e+00,  1.55732965e+00,  1.44895085e+00,\n",
       "         1.35843900e+00,  1.28238843e+00,  1.21675226e+00,\n",
       "         1.16263629e+00,  1.11885279e+00,  1.07868624e+00,\n",
       "         1.03908500e+00,  1.00421282e+00,  9.75583946e-01,\n",
       "         9.47571287e-01,  9.17087666e-01,  8.89023099e-01,\n",
       "         8.67549062e-01,  8.50417682e-01,  8.36218512e-01,\n",
       "         8.28414307e-01,  8.26884704e-01,  8.23692786e-01,\n",
       "         8.12798870e-01,  7.96470722e-01,  7.77224518e-01,\n",
       "         7.51865373e-01,  7.19341969e-01,  6.86095725e-01,\n",
       "         6.56725219e-01,  6.26729924e-01,  5.91119905e-01,\n",
       "         5.52735417e-01,  5.15230722e-01,  4.75626283e-01,\n",
       "         4.31386175e-01,  3.87201013e-01,  3.46599256e-01,\n",
       "         3.04384592e-01,  2.56148412e-01,  2.08083479e-01,\n",
       "         1.68605149e-01,  1.37729809e-01,  1.13232579e-01,\n",
       "         9.77707728e-02,  8.94567787e-02,  7.58759957e-02,\n",
       "         4.98193601e-02,  1.93921071e-02, -1.06183903e-02,\n",
       "        -4.83983749e-02, -8.05563049e-02, -4.60011079e-02,\n",
       "         1.11937838e-01,  3.67287410e-01],\n",
       "       [ 9.91386550e-02,  9.50430286e-02,  9.89726992e-02,\n",
       "         1.10141893e-01,  1.22641365e-01,  1.35815915e-01,\n",
       "         1.51982042e-01,  1.67662586e-01,  1.76779059e-01,\n",
       "         1.79609362e-01,  1.79704335e-01,  1.75314840e-01,\n",
       "         1.63461557e-01,  1.49564881e-01,  1.42730196e-01,\n",
       "         1.43138675e-01,  1.43886590e-01,  1.43703900e-01,\n",
       "         1.47635268e-01,  1.56130830e-01,  1.64022411e-01,\n",
       "         1.70293000e-01,  1.78633484e-01,  1.87871915e-01,\n",
       "         1.91775998e-01,  1.88909824e-01,  1.82968126e-01,\n",
       "         1.73302348e-01,  1.55838008e-01,  1.33979427e-01,\n",
       "         1.17423073e-01,  1.09040774e-01,  1.04001327e-01,\n",
       "         1.01995289e-01,  1.07199258e-01,  1.15552967e-01,\n",
       "         1.17407465e-01,  1.14750360e-01,  1.18676556e-01,\n",
       "         1.26706841e-01,  1.22959875e-01,  1.06750565e-01,\n",
       "         9.70784253e-02,  9.78033282e-02,  8.62096123e-02,\n",
       "         5.64110433e-02,  4.37749812e-02,  6.52541623e-02,\n",
       "         4.42939749e-02, -1.65019984e-01, -6.66837699e-01,\n",
       "        -1.44511833e+00, -2.37504119e+00, -3.27587925e+00,\n",
       "        -3.96746261e+00, -4.34243781e+00, -4.42595466e+00,\n",
       "        -4.34615661e+00, -4.22084359e+00, -4.08112338e+00,\n",
       "        -3.90770819e+00, -3.70327320e+00, -3.49647255e+00,\n",
       "        -3.29778018e+00, -3.09323369e+00, -2.87990288e+00,\n",
       "        -2.67629399e+00, -2.49471349e+00, -2.32843878e+00,\n",
       "        -2.17112130e+00, -2.02762294e+00, -1.89945441e+00,\n",
       "        -1.77800033e+00, -1.66002143e+00, -1.55510256e+00,\n",
       "        -1.47037738e+00, -1.40049816e+00, -1.33924925e+00,\n",
       "        -1.28888225e+00, -1.25064213e+00, -1.21695041e+00,\n",
       "        -1.18098371e+00, -1.14523094e+00, -1.11343510e+00,\n",
       "        -1.08232730e+00, -1.04869717e+00, -1.01749373e+00,\n",
       "        -9.95586494e-01, -9.83069518e-01, -9.76531561e-01,\n",
       "        -9.74802317e-01, -9.75329757e-01, -9.70535064e-01,\n",
       "        -9.54231653e-01, -9.27667754e-01, -8.94758720e-01,\n",
       "        -8.56298605e-01, -8.12876554e-01, -7.67288858e-01,\n",
       "        -7.18959435e-01, -6.61807888e-01, -5.93028875e-01,\n",
       "        -5.18921107e-01, -4.47823038e-01, -3.83302861e-01,\n",
       "        -3.27965395e-01, -2.85596075e-01, -2.53668028e-01,\n",
       "        -2.21897850e-01, -1.85123792e-01, -1.50118551e-01,\n",
       "        -1.23593802e-01, -1.02960293e-01, -8.61800287e-02,\n",
       "        -7.91098817e-02, -8.26484055e-02, -8.41451841e-02,\n",
       "        -7.35577028e-02, -5.53686371e-02, -3.14637050e-02,\n",
       "         7.36067334e-03,  4.62546974e-02,  2.10565333e-02,\n",
       "        -1.27525698e-01, -3.74244636e-01]])"
      ]
     },
     "execution_count": 36,
     "metadata": {},
     "output_type": "execute_result"
    }
   ],
   "source": [
    "mod.rx2('betaHat')\n"
   ]
  },
  {
   "cell_type": "code",
   "execution_count": null,
   "metadata": {},
   "outputs": [],
   "source": []
  }
 ],
 "metadata": {
  "kernelspec": {
   "display_name": ".venv",
   "language": "python",
   "name": "python3"
  },
  "language_info": {
   "codemirror_mode": {
    "name": "ipython",
    "version": 3
   },
   "file_extension": ".py",
   "mimetype": "text/x-python",
   "name": "python",
   "nbconvert_exporter": "python",
   "pygments_lexer": "ipython3",
   "version": "3.11.10"
  }
 },
 "nbformat": 4,
 "nbformat_minor": 2
}
