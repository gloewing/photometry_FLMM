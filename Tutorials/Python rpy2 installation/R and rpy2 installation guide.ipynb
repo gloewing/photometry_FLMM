{
 "cells": [
  {
   "cell_type": "markdown",
   "metadata": {},
   "source": [
    "# R and rpy2 installation guide\n",
    "\n",
    "This notebook will guide users to installing R and the python package rpy2 in preparation to install and run the fast_fmm_rpy2 module. This notebook assumes the user is familiar with Python and Jupyter Notebooks.\n",
    "\n",
    "The goal of this notebook is to guide Python-users to the minimum install of R to use rpy2."
   ]
  },
  {
   "cell_type": "markdown",
   "metadata": {},
   "source": [
    "## R installation on Mac\n",
    "\n",
    "Due to the schism between older Macs running x86 Intel chips and newer Macs using ARM-based Apple Silicon chips,  care must be taken when installing R on Macs.\n",
    "\n",
    "### Apple Silicon's ARM Architecture vs. Legacy x86 Architecture\n",
    "\n",
    "Apple Silicon, used in M1, M2, and M3 chips, is based on ARM architecture, which differs significantly from the legacy x86 architecture used in older Intel-based Macs. ARM architecture is known for its efficiency and performance per watt, making it ideal for mobile and low-power devices. In contrast, x86 architecture is designed for high-performance computing but is less power-efficient.\n",
    "\n",
    "R users cannot use compiled binaries for x86 chips on Macs with M-chips because of the architectural differences. Binaries compiled for x86 are not natively compatible with ARM architecture. While Rosetta 2 can translate x86 binaries to run on ARM, this can lead to performance degradation and compatibility issues. Therefore, it is recommended to use binaries specifically compiled for ARM architecture to ensure optimal performance and compatibility.\n",
    "\n",
    "### How to Check if Your Mac Has an Intel or ARM Chip\n",
    "\n",
    "1. Click on the Apple logo in the top-left corner of your screen.\n",
    "2. Select \"About This Mac\" from the dropdown menu.\n",
    "3. In the window that appears, look for the \"Processor\" or \"Chip\" information:\n",
    "   - If it contains the word \"Intel,\" your Mac has an Intel x86 chip.\n",
    "   - If it says something like \"Apple M1\", \"Apple M2\", or \"Apple M3\" your Mac has an ARM-based Apple Silicon chip.\n",
    "\n",
    "\n",
    "### Downloading R PKG from CRAN\n",
    "\n",
    "Navigate to the [R for macOS](https://cran.r-project.org/bin/macosx/) page.\n",
    "\n",
    "#### For Apple Silicon\n",
    "Please download the PKG-file under the heading **For Apple silicon (M1,2,..) Macs:**.\n",
    "\n",
    "#### For Intel\n",
    "Please download the PKG-file under the heading **For older Intel Macs:**.\n",
    "\n",
    "#### Optional: Verify the SHA1 of the downloaded package.\n",
    "Copy the SHA1-hash string for your package and copy it into the cell below to the verify the file hash matches the SHA1 provided from the CRAN website.\n",
    "\n",
    "#### Install PKG\n",
    "\n",
    "Please install R using downloaded PKG file. You may need admin permisisons to install."
   ]
  },
  {
   "cell_type": "code",
   "execution_count": null,
   "metadata": {},
   "outputs": [],
   "source": [
    "from hashlib import sha1\n",
    "from pathlib import Path\n",
    "\n",
    "def verify_sha1(file_path: str, sha1_target: str) -> tuple[bool, str]:\n",
    "    with open(file_path, 'rb') as f:\n",
    "        file_hash: str = sha1(f.read()).hexdigest()\n",
    "    return file_hash == sha1_target, file_hash\n",
    "\n",
    "# PASTE THE SHA1 STRING FROM CRAN BELOW\n",
    "sha1_target: str = \"SHA1_string_from_website\"\n",
    "assert sha1_target != \"SHA1_string_from_website\", \"Please paste in SHA1 string from CRAN website\"\n",
    "\n",
    "# PASTE THE FILEPATH TO THE DOWNLOADED R PKG INSTALLER \n",
    "file_path: str = \"filepath_to_PKG\"\n",
    "assert Path(file_path).exists(), f\"{file_path} was not found!\"\n",
    "is_valid: bool\n",
    "file_hash: str\n",
    "is_valid, file_hash = verify_sha1(file_path, sha1_target)\n",
    "\n",
    "\n",
    "if is_valid :\n",
    "    print(\"Installer is valid!\")\n",
    "else:\n",
    "    print(\"WARNING: SHA1 string does not match!\")\n",
    "    print(f\"Generated file hash: {file_hash}\")\n",
    "    print(f\"Expected SHA1: {sha1_target}\")\n"
   ]
  },
  {
   "cell_type": "markdown",
   "metadata": {},
   "source": []
  },
  {
   "cell_type": "code",
   "execution_count": null,
   "metadata": {},
   "outputs": [],
   "source": []
  },
  {
   "cell_type": "markdown",
   "metadata": {},
   "source": []
  }
 ],
 "metadata": {
  "kernelspec": {
   "display_name": ".venv",
   "language": "python",
   "name": "python3"
  },
  "language_info": {
   "codemirror_mode": {
    "name": "ipython",
    "version": 3
   },
   "file_extension": ".py",
   "mimetype": "text/x-python",
   "name": "python",
   "nbconvert_exporter": "python",
   "pygments_lexer": "ipython3",
   "version": "3.11.10"
  }
 },
 "nbformat": 4,
 "nbformat_minor": 2
}
